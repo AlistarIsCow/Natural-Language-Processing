{
 "cells": [
  {
   "cell_type": "markdown",
   "metadata": {},
   "source": [
    "# Wyrażenie regularne zaczynające się z wielkiej litery i mające 4-6 znaków"
   ]
  },
  {
   "cell_type": "code",
   "execution_count": 1,
   "metadata": {},
   "outputs": [
    {
     "name": "stdout",
     "output_type": "stream",
     "text": [
      "dopasowano: Anna\n",
      "dopasowano: Reddit\n"
     ]
    }
   ],
   "source": [
    "import re\n",
    "\n",
    "test_words = ['zebra', 'krowa', 'Bitcoin', 'Anna', 'Peer2Peer', 'Reddit']\n",
    "\n",
    "REGEX = r'\\b[A-Z][a-z]{3,5}\\b'\n",
    "\n",
    "for word in test_words:\n",
    "    if re.search(REGEX, word):\n",
    "        print(f\"dopasowano: {word}\")"
   ]
  },
  {
   "cell_type": "markdown",
   "metadata": {},
   "source": [
    "# Usuwanie tagów HTML z tekstu"
   ]
  },
  {
   "cell_type": "code",
   "execution_count": 2,
   "metadata": {},
   "outputs": [
    {
     "name": "stdout",
     "output_type": "stream",
     "text": [
      "1. To jest tytul 2. A to - link do google.\n"
     ]
    }
   ],
   "source": [
    "import re\n",
    "html_text = \"<h1>1. To jest tytul </h1><ul><li class='link'><a href='www.google.pl'>2. A to - link do google.</a></li></ul>\"\n",
    "\n",
    "REGEX = r'<.*?>'\n",
    "\n",
    "print(re.sub(REGEX, '', html_text))"
   ]
  },
  {
   "cell_type": "markdown",
   "metadata": {},
   "source": [
    "# Ekstrakcja informacji z adresu url"
   ]
  },
  {
   "cell_type": "code",
   "execution_count": 3,
   "metadata": {},
   "outputs": [
    {
     "name": "stdout",
     "output_type": "stream",
     "text": [
      "Variable name: id, value: 1254\n",
      "Variable name: name, value: Mike\n",
      "Variable name: surname, value: Tyson\n"
     ]
    }
   ],
   "source": [
    "import re\n",
    "\n",
    "url = \"http://html.net/page.php?id=1254?name=Mike?surname=Tyson\"\n",
    "\n",
    "REGEX = r'\\?(?P<name>[a-zA-Z0-9]*)=(?P<val>[a-zA-Z0-9]*)'\n",
    "\n",
    "for match in re.finditer(REGEX, url):\n",
    "    print(\"Variable name: {name}, value: {val}\".format(\n",
    "        name=match.group('name'), val=match.group('val')\n",
    "    ))"
   ]
  },
  {
   "cell_type": "markdown",
   "metadata": {},
   "source": [
    "# Podział tekstu na zdania z wykorzystaniem positive lookahead"
   ]
  },
  {
   "cell_type": "code",
   "execution_count": 4,
   "metadata": {},
   "outputs": [
    {
     "name": "stdout",
     "output_type": "stream",
     "text": [
      "Dear Mr.\n",
      " Nowak, I would like to invite you to a conference in the U.S.A.\n",
      " The conference will start on Wed. the 7th of March and will end on Sat. 10 of March.\n",
      " The conference location is Warsaw, Poland.\n",
      " The keynote speaker will be M.D.\n",
      " Obama.\n"
     ]
    }
   ],
   "source": [
    "import re\n",
    "\n",
    "text = \"Dear Mr. Nowak, I would like to invite you to a conference in the U.S.A. The conference will start on Wed. the 7th of March and will end on Sat. 10 of March. The conference location is Warsaw, Poland. The keynote speaker will be M.D. Obama.\"\n",
    "\n",
    "REGEX = r'.*?\\.(?=( [A-Z]|$))' \n",
    "\n",
    "#Podejście oparte o wyrażenie nie sprawdza się, ponieważ komputer nie ma możliwości rozróżnić końca zdania od skrótu kończącego się kropką i dalszej\n",
    "#części zdania z wielkiej litery. \n",
    "for match in re.finditer(REGEX, text):\n",
    "    print(match.group(0))"
   ]
  },
  {
   "cell_type": "markdown",
   "metadata": {},
   "source": [
    "# Podział tekstu na zdania z wykorzystaniem biblioteki nltk"
   ]
  },
  {
   "cell_type": "code",
   "execution_count": 5,
   "metadata": {},
   "outputs": [
    {
     "name": "stdout",
     "output_type": "stream",
     "text": [
      "Dear Mr. Nowak, I would like to invite you to a conference in the U.S.A.\n",
      "The conference will start on Wed., the 7th of March and will end on Sat., the 10th of March.\n",
      "The conference location is Warsaw, Poland.\n",
      "The keynote speaker will be M.D.\n",
      "Mark Obama.\n"
     ]
    }
   ],
   "source": [
    "import nltk\n",
    "\n",
    "nltk.download('punkt', quiet=True)\n",
    "\n",
    "text = \"Dear Mr. Nowak, I would like to invite you to a conference in the U.S.A. The conference will start on Wed., the 7th of March and will end on Sat., the 10th of March. The conference location is Warsaw, Poland. The keynote speaker will be M.D. Mark Obama.\"\n",
    "\n",
    "nltk_split = nltk.tokenize.sent_tokenize(text)\n",
    "\n",
    "for el in nltk_split:\n",
    "    print(el)\n"
   ]
  },
  {
   "cell_type": "markdown",
   "metadata": {},
   "source": [
    "# Porównanie wyszukiwania naiwnego vs REGEX na przykładzie biblii"
   ]
  },
  {
   "cell_type": "code",
   "execution_count": 6,
   "metadata": {},
   "outputs": [
    {
     "name": "stdout",
     "output_type": "stream",
     "text": [
      "Czas wyszukiwania naiwnego: 3.9982114999993428.\n",
      "Czas kompilacji wyrażenia 0.025776399999813293. Czas wyszukiwania z wyrażeniem 0.5144804999999906\n",
      "Z regexami 7.7713567375234165 razy szybciej\n"
     ]
    }
   ],
   "source": [
    "import nltk\n",
    "from timeit import default_timer as timer\n",
    "\n",
    "nltk.download('gutenberg', quiet=True)\n",
    "raw_bible = nltk.corpus.gutenberg.raw('bible-kjv.txt')\n",
    "\n",
    "names = open('names.txt', 'r').read().split(\"\\n\")\n",
    "\n",
    "names_found_naive = []\n",
    "names_found_regex = []\n",
    "\n",
    "####################################################################################\n",
    "\n",
    "# METODA NAIWNA - iteracja po imionach po kolei i sprawdzanie, które z nich występują w tekście\n",
    "start_naive = timer()\n",
    "for name in names:\n",
    "    if name in raw_bible:\n",
    "        names_found_naive.append(name)\n",
    "end_naive = timer()\n",
    "\n",
    "print(\"Czas wyszukiwania naiwnego: {diff}.\".format(diff=end_naive-start_naive))\n",
    "\n",
    "####################################################################################\n",
    "\n",
    "# METODA OPARTA O REGEX - jeden automat wyszukuje wszystkie imiona w jenym przebiegu\n",
    "start_regex = timer()\n",
    "REGEX = '(' + '|'.join(names) + ')'\n",
    "compiled = re.compile(REGEX)\n",
    "start_compiled = timer()\n",
    "for match in compiled.finditer(raw_bible):\n",
    "    names_found_regex.append(match.groups(0))\n",
    "end_regex = timer()\n",
    "\n",
    "print(\"Czas kompilacji wyrażenia {comp}. Czas wyszukiwania z wyrażeniem {search}\".format(comp=start_compiled-start_regex, search=end_regex-start_compiled))\n",
    "print(\"Z regexami {n} razy szybciej\".format(n=(1.*end_naive-start_naive)/(end_regex-start_compiled)))"
   ]
  }
 ],
 "metadata": {
  "kernelspec": {
   "display_name": "Python 3 (ipykernel)",
   "language": "python",
   "name": "python3"
  },
  "language_info": {
   "codemirror_mode": {
    "name": "ipython",
    "version": 3
   },
   "file_extension": ".py",
   "mimetype": "text/x-python",
   "name": "python",
   "nbconvert_exporter": "python",
   "pygments_lexer": "ipython3",
   "version": "3.12.4"
  }
 },
 "nbformat": 4,
 "nbformat_minor": 4
}
