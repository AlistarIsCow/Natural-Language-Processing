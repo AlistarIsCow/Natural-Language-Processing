{
 "cells": [
  {
   "cell_type": "code",
   "execution_count": 1,
   "metadata": {},
   "outputs": [
    {
     "data": {
      "text/plain": [
       "True"
      ]
     },
     "execution_count": 1,
     "metadata": {},
     "output_type": "execute_result"
    }
   ],
   "source": [
    "import spacy\n",
    "import nltk\n",
    "nlp = spacy.load('en_core_web_md')\n",
    "nltk.download('stopwords', quiet=True)"
   ]
  },
  {
   "cell_type": "markdown",
   "metadata": {},
   "source": [
    "# Automatyczna sumaryzacja"
   ]
  },
  {
   "cell_type": "code",
   "execution_count": 3,
   "metadata": {},
   "outputs": [
    {
     "name": "stdout",
     "output_type": "stream",
     "text": [
      "* With its economy weakened from tough sanctions, Pyongyang is requiring that another country pay for Kim and his delegation's hotel bill, The Washington Post reported Friday.\n",
      "* Determining who will pay Kim's hotel bill is one of many logistical issues still being hammered out ahead of the summit, including the aircraft Kim will use to fly to Singapore and the venue where Trump and Kim will meet, the Post reported.\n"
     ]
    }
   ],
   "source": [
    "from nltk import word_tokenize, sent_tokenize\n",
    "from collections import defaultdict\n",
    "from nltk.corpus import stopwords\n",
    "from string import punctuation\n",
    "\n",
    "stopwords = set(stopwords.words('english') + list(punctuation)) # stworzenie listy ignorowanych tokenów\n",
    "\n",
    "def compute_frequencies(word_sent): # funkcja generująca słownik mapowane słowo -> liczność  wystąpień w dokumencie\n",
    "    dict = {}\n",
    "    for i in word_sent:\n",
    "        for j in i:\n",
    "            if j not in stopwords:\n",
    "                if j in dict:\n",
    "                    dict[j] += 1\n",
    "                else:\n",
    "                    dict[j] = 1\n",
    "    return dict\n",
    "\n",
    "def create_sentence_ranking(tokenized_sentences, freq):\n",
    "    counter = 0\n",
    "    dict = {}\n",
    "    for i in tokenized_sentences:\n",
    "        result = 0\n",
    "        for j in i:\n",
    "            if j not in stopwords:\n",
    "                result += freq[j]\n",
    "        dict[counter] = result\n",
    "        counter += 1        \n",
    "    return dict\n",
    "\n",
    "def summarize(text, in_how_many_sentences):\n",
    "    text_lowercased = text.lower() # zamiana na małe litery\n",
    "    sents = sent_tokenize(text) # podział  na zdania\n",
    "    sentences_with_words_tokenized = [] # podział zdania na słowa tworząc listę list\n",
    "    for i in sents:\n",
    "        sentences_with_words_tokenized.append(word_tokenize(i))\n",
    "        \n",
    "    freq = compute_frequencies(sentences_with_words_tokenized)\n",
    "\n",
    "    ranking = create_sentence_ranking(sentences_with_words_tokenized, freq) # stworzenie rankingu zdań\n",
    "    sents_idx = get_top_n(ranking, in_how_many_sentences) # wybór liczby najistotniejszych zdań\n",
    "    return [sents[i] for i in sents_idx] # zamiana indeksu na tekst\n",
    "\n",
    "def get_top_n(ranking, n):\n",
    "    return sorted(range(len(ranking)), key=lambda i: ranking[i])[-n:]\n",
    "    \n",
    "text = '''\n",
    "Washington (CNN) As preparations are underway for a US-North Korea summit, US officials are trying to solve the logistical issue of who will pay for North Korean leader Kim Jong Un's housing, according to a new report.\n",
    "\n",
    "A week after abruptly scrapping the summit with Kim, President Donald Trump announced Friday that the historic talks were back on for June 12 in Singapore.\n",
    "With its economy weakened from tough sanctions, Pyongyang is requiring that another country pay for Kim and his delegation's hotel bill, The Washington Post reported Friday.\n",
    "According to the Post, Kim is demanding to stay at the luxury, five-star Fullerton hotel, where a presidential suite costs more than $6,000 a night.\n",
    "America should be more at ease than this\n",
    "America should be more at ease than this\n",
    "White House and State Department officials declined to comment to the Post on the advance team planning details.\n",
    "Citing two people familiar with the talks, the Post reported that the US is open to covering the costs, but is considering asking the host country, Singapore, to foot the bill.\n",
    "The International Campaign to Abolish Nuclear Weapons also offered to pay for Kim's lodging with the cash received as part of its Nobel Peace Prize ($1.1 million) it won last year \"in order to support peace in the Korean Peninsula and a nuclear-weapon-free world.\"\n",
    "\"Our movement is committed to the abolition of nuclear weapons and we recognize that this historic summit is a once in a generation opportunity to work for peace and nuclear disarmament,\" ICAN International Steering Group member Akira Kawasaki said in a statement.\n",
    "The Post is also reporting that the US is expected to request a waiver of sanctions from the United Nations and US Treasury Department for expenses associated with North Korea's travel.\n",
    "Trump is expected to stay at another five-star hotel, the Shangri-La, which has hosted high security events before, according to the Post.\n",
    "Determining who will pay Kim's hotel bill is one of many logistical issues still being hammered out ahead of the summit, including the aircraft Kim will use to fly to Singapore and the venue where Trump and Kim will meet, the Post reported.\n",
    "The relatively secluded Capella hotel on the island of Sentosa is being considered for the site of the summit, people familiar with the talks told the Post.\n",
    "'''\n",
    "\n",
    "for s in summarize(text, 2): # wybór 2 najlepszych zdań\n",
    "    print('*', s)"
   ]
  },
  {
   "cell_type": "markdown",
   "metadata": {},
   "source": [
    "# Ekstrakcja relacji"
   ]
  },
  {
   "cell_type": "code",
   "execution_count": 5,
   "metadata": {},
   "outputs": [
    {
     "name": "stdout",
     "output_type": "stream",
     "text": [
      "The quick brown fox jumps over the lazy dog.\n",
      "-----------------------------------\n",
      "        jumps                    \n",
      "  ________|______________         \n",
      " |        |             over     \n",
      " |        |              |        \n",
      " |       fox            dog      \n",
      " |    ____|_____      ___|____    \n",
      " .  The quick brown the      lazy\n",
      "\n",
      "\n",
      "\n",
      "\n",
      "\n"
     ]
    }
   ],
   "source": [
    "from nltk import Tree\n",
    "\n",
    "doc = nlp(\"The quick brown fox jumps over the lazy dog.\")\n",
    "\n",
    "def to_nltk_tree(node): # stworzenie drzwa\n",
    "    if node.n_lefts + node.n_rights > 0:\n",
    "        return Tree(node.text, [to_nltk_tree(child) for child in node.children])\n",
    "    else:\n",
    "        return node.text\n",
    "\n",
    "for sent in doc.sents:\n",
    "    print(sent)\n",
    "    print(\"-----------------------------------\")\n",
    "    to_nltk_tree(sent.root).pretty_print() # stworzenie i wyświetlenie drzewa\n",
    "    print(\"\\n\\n\\n\")"
   ]
  },
  {
   "cell_type": "markdown",
   "metadata": {},
   "source": [
    "## Prosta ekstrakcja relacji z wykorzystaniem drzewa zależnościowego"
   ]
  },
  {
   "cell_type": "code",
   "execution_count": 7,
   "metadata": {},
   "outputs": [
    {
     "name": "stdout",
     "output_type": "stream",
     "text": [
      "0 The det fox []\n",
      "1 quick amod fox []\n",
      "2 brown amod fox []\n",
      "3 fox nsubj jumps [The, quick, brown]\n",
      "4 jumps ROOT jumps [fox, over, .]\n",
      "5 over prep jumps [dog]\n",
      "6 the det dog []\n",
      "7 lazy amod dog []\n",
      "8 dog pobj over [the, lazy]\n",
      "9 . punct jumps []\n",
      "\n"
     ]
    }
   ],
   "source": [
    "from nltk import Tree\n",
    "\n",
    "doc = nlp(\"The quick brown fox jumps over the lazy dog.\")\n",
    "\n",
    "# wyświetlenie CONLL\n",
    "i = 0\n",
    "for sent in doc.sents:\n",
    "    for word in sent:\n",
    "        print(i, word, word.dep_, word.head, list(word.children));\n",
    "        i += 1\n",
    "    print()"
   ]
  },
  {
   "cell_type": "markdown",
   "metadata": {},
   "source": [
    "## Ekstrakcja relacji "
   ]
  },
  {
   "cell_type": "code",
   "execution_count": 9,
   "metadata": {},
   "outputs": [
    {
     "name": "stdout",
     "output_type": "stream",
     "text": [
      "jumps over(fox, dog)\n"
     ]
    }
   ],
   "source": [
    "from nltk import Tree\n",
    "\n",
    "doc = nlp(\"The quick brown fox jumps over the lazy dog.\")\n",
    "\n",
    "def parse(sent): #funkcja ekstrahująca najważniejszą relację ze zdania wraz z jej argumentami (podmiotem i dopełnieniem) na podstawie drzewa zależnościowego\n",
    "    for i in sent:\n",
    "        if i.dep_ == \"ROOT\":\n",
    "            predicate = i.text\n",
    "    for i in sent:\n",
    "        if i.dep_ == \"nsubj\" and i.head.text == predicate:\n",
    "            subj = i.text\n",
    "    obj = None\n",
    "    for i in sent:\n",
    "        if i.dep_ == \"dobj\" and i.head.text == predicate:\n",
    "            obj = i.text\n",
    "    if obj == None:\n",
    "        for i in sent:\n",
    "            if i.dep_ == \"prep\" and i.head.text == predicate:\n",
    "                predicate2 = i.text\n",
    "        for i in sent:\n",
    "            if i.dep_ == \"pobj\" and i.head.text == predicate2:\n",
    "                obj = i.text\n",
    "        predicate += \" \" + predicate2\n",
    "    print(\"{pred}({subj}, {obj})\".format(pred=predicate, subj=subj, obj=obj))\n",
    "    \n",
    "for sent in doc.sents:\n",
    "    parse(sent)"
   ]
  }
 ],
 "metadata": {
  "kernelspec": {
   "display_name": "Python 3 (ipykernel)",
   "language": "python",
   "name": "python3"
  },
  "language_info": {
   "codemirror_mode": {
    "name": "ipython",
    "version": 3
   },
   "file_extension": ".py",
   "mimetype": "text/x-python",
   "name": "python",
   "nbconvert_exporter": "python",
   "pygments_lexer": "ipython3",
   "version": "3.11.7"
  }
 },
 "nbformat": 4,
 "nbformat_minor": 4
}
